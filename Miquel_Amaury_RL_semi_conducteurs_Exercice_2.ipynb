{
  "nbformat": 4,
  "nbformat_minor": 0,
  "metadata": {
    "colab": {
      "provenance": [],
      "include_colab_link": true
    },
    "kernelspec": {
      "name": "python3",
      "display_name": "Python 3"
    },
    "language_info": {
      "name": "python"
    }
  },
  "cells": [
    {
      "cell_type": "markdown",
      "metadata": {
        "id": "view-in-github",
        "colab_type": "text"
      },
      "source": [
        "<a href=\"https://colab.research.google.com/github/EIAmaury24/Reinforcement-Learning/blob/main/Miquel_Amaury_RL_semi_conducteurs_Exercice_2.ipynb\" target=\"_parent\"><img src=\"https://colab.research.google.com/assets/colab-badge.svg\" alt=\"Open In Colab\"/></a>"
      ]
    },
    {
      "cell_type": "code",
      "execution_count": 11,
      "metadata": {
        "id": "fBGWIJJ6tsh3"
      },
      "outputs": [],
      "source": [
        "import gymnasium as gym\n",
        "from gymnasium import spaces\n",
        "import numpy as np\n",
        "import torch\n",
        "import torch.nn as nn\n",
        "import torch.nn.functional as F\n",
        "import torch.optim as optim\n",
        "from torch.distributions import Categorical\n",
        "from collections import deque\n",
        "import matplotlib.pyplot as plt"
      ]
    },
    {
      "cell_type": "markdown",
      "source": [
        "# **Exercice 2 : Reinforcement learning dans une grille 5×5**"
      ],
      "metadata": {
        "id": "9nBtTuUxtwwg"
      }
    },
    {
      "cell_type": "markdown",
      "source": [
        "## **Descriprion**\n",
        "Un agent se déplace dans une grille de 5×5 cases en partant de la position (0,0) et doit atteindre un objectif situé à (4,4). À chaque étape, l'agent peut choisir l'une des quatre actions possibles :\n",
        "\n",
        "\n",
        "1.  Haut (U).\n",
        "2.  Bas (D).\n",
        "3.  Gauche (L).\n",
        "4.  Droite (R)\n",
        "\n",
        "L'agent reçoit une récompense de +1 lorsqu'il atteint la cible et une récompense de -1 à chaque autre étape. S'il tente de sortir des limites de la grille, il reste sur place. L'objectif est d'entraîner un agent utilisant l'algorithme REINFORCE pour apprendre la meilleure politique de déplacement vers la cible en minimisant le nombre d'étapes.\n",
        "\n",
        "# **Questions**\n",
        "\n",
        "### **Compréhension de l’environnement**\n",
        "1.   Quels sont les états possibles ($s_{t}$) de l’agent dans cet environnement ?\n",
        "2.   Quelles sont les actions ($a_{t}$) que l’agent peut effectuer et comment influencent-elles son état ?\n",
        "3.   Comment la fonction de récompense ($R_{t}$) est-elle définie et quel est son impact sur l’apprentissage ?\n",
        "\n",
        "### **Implémentation avec REINFORCE**\n",
        "1.   Comment représenter l’agent sous forme d’un réseau de neurones pour approximer la politique ?\n",
        "2.   Quel est le rôle de la politique stochastique dans l’algorithme REINFORCE\n",
        "3.   Comment la mise à jour des poids du réseau de neurones est-elle effectuée à partir des épisodes joués ?\n",
        "\n",
        "### **Expérimentation et analyse**\n",
        "1.   Après l'entraînement, comment pouvez-vous évaluer si l'agent a bien appris à atteindre la cible efficacement ?\n",
        "2.   Que se passe-t-il si la grille devient plus grande (par exemple, 10×10) ? Quels ajustements seraient nécessaires dans l’apprentissage ?"
      ],
      "metadata": {
        "id": "mMkPP6batz4w"
      }
    },
    {
      "cell_type": "markdown",
      "source": [
        "# **Réponses**\n",
        "### **Compréhension de l’environnement**\n",
        "1. Les états possibles ($s_{t}$) de l’agent dans cet environnement sont l'ensemble des coordonnées de la grille (5*5).\n",
        "\n",
        "2.   L'agent peut effectuer quatre actions:\n",
        "\n",
        "\n",
        "    Haut (UP)\n",
        "    Bas (DOWN)\n",
        "    Gauche (LEFT)\n",
        "    Droite (RIGHT)\n",
        "\n",
        "Chaque action modifie une des coordonées de son état actuel.\n",
        "\n",
        "3.  La fonction de récompense ($R_{t}$) est définie par une récompense de +1 lorsqu'il atteint la cible et une récompense de -1 à chaque autre étape. L'objectif sera donc maximiser cette récompense en atteignant la cible finale avec le moins de déplacement possible.\n",
        "\n",
        "\n",
        "### **Implémentation avec REINFORCE**\n",
        "1.\n",
        "Nous pouvons mettre en place un Réseaux de neuronnes avec plusieurs couche Dense:\n",
        "\n",
        "\n",
        "    Fist hidden layers - Dense  (h_size=128),\n",
        "    Second hidden layer - Dense (h_size_1=32),\n",
        "    Second hidden layer - Dense (h_size_1=16),\n",
        "    Dense (4 outputs)\n",
        "\n",
        "2.   Dans un politique stochastique, l'agent va choisir une action parmi une distribution de probabilité. Cette distribution permet ainsi de favoriser l'exploration notamment utile dans la résolution d'un labyrinthe. Cette politique permet donc d'effectuer un maximum de recherche avant de converger vers la solution optimale.\n",
        "\n",
        "\n",
        "3.   A chaque fin d'épisodes, nous calculons le return qui est la somme de toutes les rewards pendant l'épisode. Puis, nous calculons le gradient du return attendu. Le gradient réprésente la direction à prendre pour atteindre le maximum. Ce gradient nous permet ainsi d'ajuster les poids en fontion du learning rate.\n",
        "\n",
        "\n",
        "    weight=weight+gradient*learning_rate\n",
        "\n",
        "### **Expérimentation et analyse**\n",
        "1.   Après l'entraînement, nous pouvons vérifier l'apprentissage de l'agent en traçant sa trajectoire dans la grille afin de vérifier son efficacité. Nous pouvons aussi calculer le return de sa trajectoire afin de la comparer à celle optimale du labyrinthe.\n",
        "\n",
        "2.   Dans le cas où la grille serait plus grande, il faudrait rajouter des couches de neuronnes dans le réseau afin de faciliter son apprentissage. On pourrait de plus amélioirer le système de reward en ajoutant des rewards intermédiares à des points remarquables de la grille pour atteindre plus facilement l'objectif. Nous pourrions aussi augmenter le nombre d'actions par épisodes pour favoriser l'exploration."
      ],
      "metadata": {
        "id": "xaJVqZCJKilF"
      }
    },
    {
      "cell_type": "markdown",
      "source": [
        "# Reinforcement Learning Example for for grid resolution\n",
        "## 1️⃣ Problem Description\n",
        "The goal is to use Reinforcement Learning (RL) to learn an optimal path to resolve the grid (5*5). The agent must decide between four actions (UP, DOWN, RIGHT, LEFT) in order to reach the case (4x4).\n",
        "\n",
        "\n",
        "## Definition of RL Elements\n",
        "\n",
        "### ✅ State:\n",
        "The machine's state is represented as a vector of two discrete variables:\n",
        "\n",
        "    X: [0,5]\n",
        "    Y::[0,5]\n",
        "\n",
        "### ✅ Actions:\n",
        "The agent can choose between four actions:\n",
        "\n",
        "    Action 0: UP\n",
        "    Action 1: DOWN\n",
        "    Action 2: RIGHT\n",
        "    Action 3: LEFT\n",
        "\n",
        "### ✅ Reward:\n",
        "\n",
        "The Rewards will depends on the position:\n",
        "\n",
        "    for the postion (4x4)→ +1 (positive reward)\n",
        "    others posotions → -1 (negative reward)\n",
        "    \n",
        "After developing this reward model, we noticed that the agent was unable to learn the optimal trajectory. This was due to a decrease in score with each episode. To remedy this, I modified the reward principle to improve learning. Here's the new reward model:  \n",
        "\n",
        "    for the postion (4x4)→ +100 (positive reward)\n",
        "    Reward d'éloignement → -50 (negative reward)\n",
        "    Reward de rapprochement → +10(positive reward)\n",
        "\n",
        "✅ Agent’s Objective:\n",
        "Maximize the cumulative reward by learning how to reach the final postion by the most efficiently trajectory.\n",
        "\n",
        "3️⃣ Algorithm Used\n",
        "The REINFORCE (Policy Gradient) algorithm is used to train the agent. The agent updates its policy based on the rewards obtained after each episode.\n",
        "\n",
        "Policy Model:  \n",
        "\n",
        "    Neural network with 2 inputs (state),\n",
        "    Fist hidden layers - Dense  (h_size=128),\n",
        "    Second hidden layer - Dense (h_size_1=32),\n",
        "    Second hidden layer - Dense (h_size_1=16),\n",
        "    Dense (4 outputs)\n",
        "\n",
        "Optimization: Adam algorithm with a learning rate of 1e-3.\n",
        "Discount factor reduction (gamma=0.9) to improve short-term learning.\n"
      ],
      "metadata": {
        "id": "qT3vGj3-U3gl"
      }
    },
    {
      "cell_type": "code",
      "source": [
        "class Labyrinthe:\n",
        "    def __init__(self):\n",
        "        self.reset()\n",
        "\n",
        "    def reset(self):\n",
        "        \"\"\"Environment reset\"\"\"\n",
        "        self.state = np.array([0,0])# initial position\n",
        "        return self.state\n",
        "\n",
        "    def step(self, action):\n",
        "            done = False\n",
        "            reward = 0\n",
        "            # Objectif final (ex: position [4,4])\n",
        "            goal = np.array([4, 4])\n",
        "            old_state=self.state.copy()\n",
        "            # Actions : UP = 0, DOWN = 1, RIGHT = 2, LEFT = 3\n",
        "            if action == 0:  # UP\n",
        "                if self.state[1] < 4:\n",
        "                    #reward = -1\n",
        "                    self.state[1] += 1\n",
        "\n",
        "            elif action == 1:  # DOWN\n",
        "                if self.state[1] > 0:\n",
        "                    #reward = -1\n",
        "                    self.state[1] -= 1\n",
        "\n",
        "            elif action == 2:  # RIGHT\n",
        "                if self.state[0] < 4:\n",
        "                    #reward = -1\n",
        "                    self.state[0] += 1\n",
        "\n",
        "            elif action == 3:  # LEFT\n",
        "                if self.state[0] > 0:\n",
        "                    #reward = -1\n",
        "                    self.state[0] -= 1\n",
        "\n",
        "\n",
        "            old_dist = np.linalg.norm(old_state - goal)\n",
        "            new_dist = np.linalg.norm(self.state - goal)\n",
        "\n",
        "            # Récompense en fonction du rappochement ou de l'éloignement de l'objectif\n",
        "            if new_dist > old_dist:\n",
        "                reward = -50\n",
        "            elif new_dist < old_dist:\n",
        "                reward = 10\n",
        "            if np.array_equal(self.state, goal):\n",
        "                reward = 100\n",
        "                done=True\n",
        "\n",
        "            return self.state, reward, done"
      ],
      "metadata": {
        "id": "W5MqM-q0WkEX"
      },
      "execution_count": 12,
      "outputs": []
    },
    {
      "cell_type": "code",
      "source": [
        "class Policy(nn.Module):\n",
        "    def __init__(self, s_size=2, h_size=128,  h_size_1=32,h_size_2=16,a_size=4):\n",
        "        super(Policy, self).__init__()\n",
        "        self.fc1 = nn.Linear(s_size, h_size)\n",
        "        self.fc2 = nn.Linear(h_size, h_size_1)\n",
        "        self.fc3 = nn.Linear(h_size_1, h_size_2)\n",
        "        self.fc4 = nn.Linear(h_size_2, a_size)\n",
        "\n",
        "    def forward(self, x):\n",
        "        x = F.relu(self.fc1(x))\n",
        "        x = F.relu(self.fc2(x))\n",
        "        x = F.relu(self.fc3(x))\n",
        "        x = self.fc4(x)\n",
        "        return F.softmax(x, dim=1)\n",
        "\n",
        "    def act(self, state,epsilon = 0.1):\n",
        "        state = torch.from_numpy(state).float().unsqueeze(0)\n",
        "        probs = self.forward(state)\n",
        "        m = Categorical(probs)\n",
        "        entropy = m.entropy()  # Compute the entropy\n",
        "        action = m.sample()\n",
        "\n",
        "        return action.item(), m.log_prob(action), entropy\n",
        "\n",
        "# Initialisation de l'environnement et du modèle\n",
        "\n",
        "env = Labyrinthe()\n",
        "print('state:', env.state)\n",
        "\n",
        "device = torch.device(\"cuda:0\" if torch.cuda.is_available() else \"cpu\")\n",
        "policy = Policy().to(device)\n",
        "optimizer = optim.RMSprop(policy.parameters(), lr=1e-3)"
      ],
      "metadata": {
        "colab": {
          "base_uri": "https://localhost:8080/"
        },
        "id": "Ag1qhXbYZxIb",
        "outputId": "ddd70398-90a8-4ce1-c0ab-12b6ad20031f"
      },
      "execution_count": 13,
      "outputs": [
        {
          "output_type": "stream",
          "name": "stdout",
          "text": [
            "state: [0 0]\n"
          ]
        }
      ]
    },
    {
      "cell_type": "code",
      "source": [
        "from re import escape\n",
        "# Algorithme REINFORCE\n",
        "def reinforce(n_episodes=1000, max_t=500, gamma=0.9, print_every=10):\n",
        "    scores_deque = deque(maxlen=100)\n",
        "    scores,avg_scores,t_table,action_0_table = [],[],[],[]\n",
        "    for i_episode in range(1, n_episodes+1):\n",
        "        saved_log_probs = []\n",
        "        rewards = []\n",
        "        state = env.reset()\n",
        "        action_0 = 0\n",
        "        for t in range(max_t):\n",
        "            action, log_prob, entropy = policy.act(state)\n",
        "            if action == 0:\n",
        "                action_0 += 1\n",
        "            saved_log_probs.append(log_prob)\n",
        "            state, reward, done = env.step(action)\n",
        "            rewards.append(reward)\n",
        "            if done:\n",
        "               break\n",
        "        action_0_table.append(action_0)\n",
        "        scores_deque.append(sum(rewards))\n",
        "        scores.append(sum(rewards))\n",
        "        if t <max_t:\n",
        "            t_table.append((i_episode,t))\n",
        "\n",
        "        # Calcul des récompenses cumulatives\n",
        "        discounts = [gamma**i for i in range(len(rewards))]\n",
        "        R = sum([a*b for a,b in zip(discounts, rewards)])\n",
        "\n",
        "        policy_loss = []\n",
        "        for log_prob in saved_log_probs:\n",
        "            entropy_bonus = 0.01 * entropy\n",
        "            policy_loss.append(-log_prob * R - entropy_bonus)\n",
        "            #policy_loss.append(-log_prob * R)\n",
        "        policy_loss = torch.cat(policy_loss).sum()\n",
        "\n",
        "        optimizer.zero_grad()\n",
        "        policy_loss.backward()\n",
        "        optimizer.step()\n",
        "\n",
        "        if i_episode % print_every == 0:\n",
        "            print(f'Episode {i_episode}\\tAverage Score: {np.mean(scores_deque):.2f}')\n",
        "            avg_scores.append(np.mean(scores_deque))\n",
        "\n",
        "    return scores, avg_scores, t_table, action_0_table\n",
        "\n",
        "# Exécution de l'entraînement\n",
        "scores,avg_scores,t_table, action_0_table = reinforce()"
      ],
      "metadata": {
        "colab": {
          "base_uri": "https://localhost:8080/"
        },
        "id": "vdS6AR-sa4Sj",
        "outputId": "30cdee9a-3942-4695-8d92-9b54b01f637f"
      },
      "execution_count": 14,
      "outputs": [
        {
          "output_type": "stream",
          "name": "stdout",
          "text": [
            "Episode 10\tAverage Score: -2828.00\n",
            "Episode 20\tAverage Score: -3217.50\n",
            "Episode 30\tAverage Score: -2774.67\n",
            "Episode 40\tAverage Score: -2468.00\n",
            "Episode 50\tAverage Score: -2095.20\n",
            "Episode 60\tAverage Score: -1800.67\n",
            "Episode 70\tAverage Score: -1570.29\n",
            "Episode 80\tAverage Score: -1385.50\n",
            "Episode 90\tAverage Score: -1238.67\n",
            "Episode 100\tAverage Score: -1120.40\n",
            "Episode 110\tAverage Score: -846.70\n",
            "Episode 120\tAverage Score: -489.90\n",
            "Episode 130\tAverage Score: -304.60\n",
            "Episode 140\tAverage Score: -160.20\n",
            "Episode 150\tAverage Score: -110.30\n",
            "Episode 160\tAverage Score: -91.50\n",
            "Episode 170\tAverage Score: -87.40\n",
            "Episode 180\tAverage Score: -85.30\n",
            "Episode 190\tAverage Score: -80.50\n",
            "Episode 200\tAverage Score: -75.30\n",
            "Episode 210\tAverage Score: -67.00\n",
            "Episode 220\tAverage Score: -61.10\n",
            "Episode 230\tAverage Score: -55.10\n",
            "Episode 240\tAverage Score: -44.70\n",
            "Episode 250\tAverage Score: -34.20\n",
            "Episode 260\tAverage Score: -22.60\n",
            "Episode 270\tAverage Score: -7.50\n",
            "Episode 280\tAverage Score: 1.30\n",
            "Episode 290\tAverage Score: 2.50\n",
            "Episode 300\tAverage Score: 2.90\n",
            "Episode 310\tAverage Score: 7.70\n",
            "Episode 320\tAverage Score: 9.30\n",
            "Episode 330\tAverage Score: 10.10\n",
            "Episode 340\tAverage Score: 13.30\n",
            "Episode 350\tAverage Score: 17.30\n",
            "Episode 360\tAverage Score: 23.70\n",
            "Episode 370\tAverage Score: 27.40\n",
            "Episode 380\tAverage Score: 29.70\n",
            "Episode 390\tAverage Score: 34.10\n",
            "Episode 400\tAverage Score: 37.70\n",
            "Episode 410\tAverage Score: 37.30\n",
            "Episode 420\tAverage Score: 37.70\n",
            "Episode 430\tAverage Score: 38.50\n",
            "Episode 440\tAverage Score: 38.50\n",
            "Episode 450\tAverage Score: 38.10\n",
            "Episode 460\tAverage Score: 37.30\n",
            "Episode 470\tAverage Score: 34.80\n",
            "Episode 480\tAverage Score: 33.20\n",
            "Episode 490\tAverage Score: 30.40\n",
            "Episode 500\tAverage Score: 22.50\n",
            "Episode 510\tAverage Score: 9.30\n",
            "Episode 520\tAverage Score: -5.80\n",
            "Episode 530\tAverage Score: -16.20\n",
            "Episode 540\tAverage Score: -20.60\n",
            "Episode 550\tAverage Score: -22.50\n",
            "Episode 560\tAverage Score: -28.50\n",
            "Episode 570\tAverage Score: -42.80\n",
            "Episode 580\tAverage Score: -60.00\n",
            "Episode 590\tAverage Score: -72.20\n",
            "Episode 600\tAverage Score: -79.90\n",
            "Episode 610\tAverage Score: -81.10\n",
            "Episode 620\tAverage Score: -87.90\n",
            "Episode 630\tAverage Score: -95.10\n",
            "Episode 640\tAverage Score: -106.70\n",
            "Episode 650\tAverage Score: -116.80\n",
            "Episode 660\tAverage Score: -118.40\n",
            "Episode 670\tAverage Score: -113.30\n",
            "Episode 680\tAverage Score: -100.50\n",
            "Episode 690\tAverage Score: -92.70\n",
            "Episode 700\tAverage Score: -79.10\n",
            "Episode 710\tAverage Score: -67.90\n",
            "Episode 720\tAverage Score: -47.20\n",
            "Episode 730\tAverage Score: -32.80\n",
            "Episode 740\tAverage Score: -18.00\n",
            "Episode 750\tAverage Score: -10.80\n",
            "Episode 760\tAverage Score: -6.00\n",
            "Episode 770\tAverage Score: 2.80\n",
            "Episode 780\tAverage Score: 4.00\n",
            "Episode 790\tAverage Score: 7.60\n",
            "Episode 800\tAverage Score: 4.80\n",
            "Episode 810\tAverage Score: 6.00\n",
            "Episode 820\tAverage Score: 6.00\n",
            "Episode 830\tAverage Score: 9.20\n",
            "Episode 840\tAverage Score: 10.40\n",
            "Episode 850\tAverage Score: 15.60\n",
            "Episode 860\tAverage Score: 19.20\n",
            "Episode 870\tAverage Score: 22.00\n",
            "Episode 880\tAverage Score: 26.80\n",
            "Episode 890\tAverage Score: 30.40\n",
            "Episode 900\tAverage Score: 35.60\n",
            "Episode 910\tAverage Score: 38.00\n",
            "Episode 920\tAverage Score: 39.20\n",
            "Episode 930\tAverage Score: 39.20\n",
            "Episode 940\tAverage Score: 40.00\n",
            "Episode 950\tAverage Score: 40.00\n",
            "Episode 960\tAverage Score: 39.60\n",
            "Episode 970\tAverage Score: 39.20\n",
            "Episode 980\tAverage Score: 38.80\n",
            "Episode 990\tAverage Score: 38.00\n",
            "Episode 1000\tAverage Score: 34.00\n"
          ]
        }
      ]
    },
    {
      "cell_type": "code",
      "source": [
        "fig = plt.figure()\n",
        "ax = fig.add_subplot(111)\n",
        "plt.plot(np.arange(1, len(avg_scores)+1), avg_scores)\n",
        "plt.ylabel('Score')\n",
        "plt.xlabel('Episode #')\n",
        "plt.show()"
      ],
      "metadata": {
        "colab": {
          "base_uri": "https://localhost:8080/",
          "height": 449
        },
        "id": "Si2pAjgCi-Vc",
        "outputId": "1038c50a-2c5b-46ec-fa89-d22860906ea0"
      },
      "execution_count": 15,
      "outputs": [
        {
          "output_type": "display_data",
          "data": {
            "text/plain": [
              "<Figure size 640x480 with 1 Axes>"
            ],
            "image/png": "[encoded data removed]"
          },
          "metadata": {}
        }
      ]
    },
    {
      "cell_type": "code",
      "source": [
        "fig = plt.figure()\n",
        "ax = fig.add_subplot(111)\n",
        "plt.plot(np.arange(1, len(scores)+1), scores)\n",
        "plt.ylabel('Score')\n",
        "plt.xlabel('Episode #')\n",
        "plt.show()"
      ],
      "metadata": {
        "colab": {
          "base_uri": "https://localhost:8080/",
          "height": 449
        },
        "id": "sgqjwTmS971r",
        "outputId": "ff250101-ceb0-4eeb-f3ea-bf9f6e55cabe"
      },
      "execution_count": 16,
      "outputs": [
        {
          "output_type": "display_data",
          "data": {
            "text/plain": [
              "<Figure size 640x480 with 1 Axes>"
            ],
            "image/png": "[encoded data removed]"
          },
          "metadata": {}
        }
      ]
    }
  ]
}